{
  "nbformat": 4,
  "nbformat_minor": 0,
  "metadata": {
    "colab": {
      "provenance": []
    },
    "kernelspec": {
      "name": "python3",
      "display_name": "Python 3"
    },
    "language_info": {
      "name": "python"
    }
  },
  "cells": [
    {
      "cell_type": "code",
      "execution_count": null,
      "metadata": {
        "id": "2nzpYSVvmjBE"
      },
      "outputs": [],
      "source": [
        "!pip install gym\n",
        "\n",
        "import gym\n",
        "\n",
        "import numpy as np\n",
        "import matplotlib.pyplot as plt\n",
        "import random\n",
        "import time"
      ]
    },
    {
      "cell_type": "code",
      "source": [
        "env = gym.make( \"FrozenLake-v1\", map_name=\"8x8\")"
      ],
      "metadata": {
        "id": "25YgmBuCtcZI"
      },
      "execution_count": null,
      "outputs": []
    },
    {
      "cell_type": "code",
      "source": [
        "MAP = [[ env.desc[h,w].decode('UTF-8') for w in range(env.desc.shape[1])] for h in range( env.desc.shape[0])]\n",
        "STATES = [[  w + h * env.desc.shape[1] for w in range(env.desc.shape[1])] for h in range( env.desc.shape[0])]\n",
        "\n",
        "def display_env( M, S, s):\n",
        "    RED = \"\\033[2;31;43m\"\n",
        "    BLACK = \"\\033[0m\"\n",
        "    \n",
        "    H = len( M)\n",
        "    W = len( M[0])\n",
        "\n",
        "    assert H == len(S) and W == len( S[0]), \"Sizes does not agrees\"\n",
        "\n",
        "    RENDER = \"\"\n",
        "    for h in range( H):\n",
        "        for w in range( W):  \n",
        "            if s == S[h][w]:\n",
        "                RENDER += RED + M[h][w] + BLACK\n",
        "            else:\n",
        "                RENDER += M[h][w]\n",
        "        RENDER += \"\\n\"\n",
        "    print( RENDER ) \n",
        "\n",
        "s = random.randint( 0, len( MAP) * len( MAP[0]) - 1)\n",
        "display_env( MAP, STATES, s)"
      ],
      "metadata": {
        "colab": {
          "base_uri": "https://localhost:8080/"
        },
        "id": "y99Gh7u78PLw",
        "outputId": "451f0f16-1808-426d-e243-915271e77d4f"
      },
      "execution_count": 29,
      "outputs": [
        {
          "output_type": "stream",
          "name": "stdout",
          "text": [
            "SFFFFFFF\n",
            "FFFFFFFF\n",
            "FFFHFFFF\n",
            "FFFFFHFF\n",
            "FFFHFFFF\n",
            "FHHFFFHF\n",
            "FHFFHFHF\n",
            "F\u001b[2;31;43mF\u001b[0mFHFFFG\n",
            "\n"
          ]
        }
      ]
    },
    {
      "cell_type": "code",
      "source": [
        "# Init Q-table:\n",
        "N_action = env.action_space.n \n",
        "N_state = env.observation_space.n\n",
        "\n",
        "Qtable = np.zeros( (N_state, N_action) )\n",
        "\n",
        "# Init Parameters:\n",
        "N_episode = 25000\n",
        "N_steps = 100\n",
        "\n",
        "LR = 0.001\n",
        "gamma = 0.99\n",
        "\n",
        "# Epsilon Grredy Strategy:\n",
        "epsilon = 1.0\n",
        "epsilon_decay = 0.001\n",
        "\n",
        "max_epsilon = 1.0\n",
        "min_epsilon = 0.1"
      ],
      "metadata": {
        "id": "Beosd8VNtcQA"
      },
      "execution_count": 20,
      "outputs": []
    },
    {
      "cell_type": "code",
      "source": [
        "from tqdm import tqdm\n",
        "\n",
        "rewards = []\n",
        "\n",
        "for episode in tqdm( range( N_episode)):\n",
        "    state = env.reset()\n",
        "\n",
        "    done = False\n",
        "    ereward = 0\n",
        "\n",
        "    for step in range( N_steps):\n",
        "        r = random.uniform( 0, 1)\n",
        "        if r > epsilon:\n",
        "            action = np.argmax( Qtable[ state, :])\n",
        "        else:\n",
        "            action = env.action_space.sample()\n",
        "        \n",
        "        new_state, reward, done, info = env.step( action)\n",
        "\n",
        "        Qtable[ state, action] = ( 1 - LR) * Qtable[ state, action] + \\\n",
        "                                  LR * ( reward + gamma * np.max( Qtable[ new_state, :]) )\n",
        "        \n",
        "        state = new_state\n",
        "        ereward += reward\n",
        "\n",
        "        if done:\n",
        "            break\n",
        "\n",
        "    explor_rate = min_epsilon + \\\n",
        "                  ( max_epsilon - min_epsilon) * np.exp( - episode * epsilon_decay )\n",
        "    rewards.append( ereward)\n",
        "\n",
        "\n",
        "print( Qtable)"
      ],
      "metadata": {
        "colab": {
          "base_uri": "https://localhost:8080/"
        },
        "id": "gbU8Q8z-1ABF",
        "outputId": "73ac1064-86c7-41fb-94c8-3b12edd5725c"
      },
      "execution_count": 36,
      "outputs": [
        {
          "output_type": "stream",
          "name": "stderr",
          "text": [
            "100%|██████████| 25000/25000 [00:46<00:00, 540.69it/s]"
          ]
        },
        {
          "output_type": "stream",
          "name": "stdout",
          "text": [
            "[[9.86748596e-02 9.97918201e-02 9.94962927e-02 1.20845050e-01]\n",
            " [9.23890189e-02 9.61295648e-02 1.25333676e-01 9.57959499e-02]\n",
            " [9.16942248e-02 9.58851456e-02 1.32916060e-01 9.53113613e-02]\n",
            " [9.02395140e-02 9.15984535e-02 1.42676252e-01 9.66736823e-02]\n",
            " [8.73322378e-02 9.78267425e-02 1.54541113e-01 9.77932333e-02]\n",
            " [1.06095828e-01 1.09505460e-01 1.72302330e-01 1.08429095e-01]\n",
            " [9.63989770e-02 9.34939448e-02 1.83027675e-01 9.35425497e-02]\n",
            " [1.79877240e-01 1.79696683e-01 1.89984711e-01 1.77304492e-01]\n",
            " [4.08163843e-02 4.35961264e-02 4.11081200e-02 1.18012801e-01]\n",
            " [6.30352372e-02 6.32733114e-02 6.62712547e-02 1.22084958e-01]\n",
            " [6.25579323e-02 6.56842475e-02 7.06399931e-02 1.28627345e-01]\n",
            " [4.73864441e-02 4.93678709e-02 4.94495802e-02 1.36249740e-01]\n",
            " [7.08814115e-02 7.14941839e-02 1.43402994e-01 8.07730490e-02]\n",
            " [1.01568185e-01 1.03903276e-01 1.68194711e-01 1.08936739e-01]\n",
            " [1.12695242e-01 1.82749573e-01 1.19455952e-01 1.13013442e-01]\n",
            " [1.81729172e-01 1.82802439e-01 1.95539676e-01 1.77181777e-01]\n",
            " [4.31940186e-03 2.24600321e-03 3.14096812e-03 6.40674215e-02]\n",
            " [5.36832336e-03 2.47643910e-03 3.88375999e-03 6.73999642e-02]\n",
            " [5.76569957e-02 1.45856551e-03 2.95112234e-03 5.23880573e-03]\n",
            " [0.00000000e+00 0.00000000e+00 0.00000000e+00 0.00000000e+00]\n",
            " [2.37877592e-02 2.60929688e-02 1.14334973e-01 4.21168354e-02]\n",
            " [3.59643843e-02 5.04355526e-02 5.78175331e-02 1.54935705e-01]\n",
            " [1.08570026e-01 1.15124466e-01 1.89881349e-01 1.11998273e-01]\n",
            " [1.80213383e-01 1.85109573e-01 2.07344137e-01 1.71369352e-01]\n",
            " [2.30146900e-04 5.17191950e-05 3.02034105e-04 8.94591502e-03]\n",
            " [4.01321626e-04 1.23903897e-04 5.00493646e-04 1.37881753e-02]\n",
            " [7.30886122e-04 3.43765799e-04 9.76671489e-04 2.00426658e-02]\n",
            " [3.28404239e-04 1.59853548e-03 8.63909577e-04 1.83856687e-02]\n",
            " [4.98826387e-02 1.74726315e-03 8.60200710e-03 7.04204532e-03]\n",
            " [0.00000000e+00 0.00000000e+00 0.00000000e+00 0.00000000e+00]\n",
            " [8.07406753e-02 9.06101671e-02 1.85887455e-01 1.03412397e-01]\n",
            " [2.00094048e-01 2.25031977e-01 2.12234829e-01 1.85450219e-01]\n",
            " [1.67822723e-08 1.31548007e-08 3.62217364e-06 5.09184998e-05]\n",
            " [6.62269722e-06 7.77028279e-09 1.36463696e-04 1.13541698e-07]\n",
            " [1.65978640e-06 2.02315391e-09 6.29327070e-09 2.26548844e-04]\n",
            " [0.00000000e+00 0.00000000e+00 0.00000000e+00 0.00000000e+00]\n",
            " [7.87698682e-04 1.02609708e-03 2.08699442e-03 2.61730948e-02]\n",
            " [2.33680626e-04 1.71065403e-03 1.32188060e-03 4.59731084e-02]\n",
            " [2.88222908e-02 4.07373371e-02 1.47676104e-01 6.72206396e-02]\n",
            " [1.83363327e-01 2.00541526e-01 2.71847067e-01 1.68688844e-01]\n",
            " [5.35940930e-08 4.03492574e-10 2.70929419e-09 3.14858223e-09]\n",
            " [0.00000000e+00 0.00000000e+00 0.00000000e+00 0.00000000e+00]\n",
            " [0.00000000e+00 0.00000000e+00 0.00000000e+00 0.00000000e+00]\n",
            " [4.00045060e-12 5.81226152e-10 2.38234560e-06 7.59816805e-08]\n",
            " [4.95698724e-04 2.40554459e-09 2.36906742e-05 1.23260822e-05]\n",
            " [5.01451285e-04 2.05382137e-07 4.45523713e-08 2.68367418e-05]\n",
            " [0.00000000e+00 0.00000000e+00 0.00000000e+00 0.00000000e+00]\n",
            " [2.01139979e-01 3.29734235e-01 2.82618130e-01 1.31932929e-01]\n",
            " [2.29526575e-10 1.51739565e-11 2.25776202e-10 2.41098630e-10]\n",
            " [0.00000000e+00 0.00000000e+00 0.00000000e+00 0.00000000e+00]\n",
            " [2.13629228e-18 2.53313759e-16 5.18914929e-17 2.52777670e-16]\n",
            " [3.12516351e-14 3.22952770e-19 5.50337082e-09 7.34687788e-14]\n",
            " [0.00000000e+00 0.00000000e+00 0.00000000e+00 0.00000000e+00]\n",
            " [3.56790471e-06 5.61301146e-07 6.77650325e-07 1.06766083e-10]\n",
            " [0.00000000e+00 0.00000000e+00 0.00000000e+00 0.00000000e+00]\n",
            " [2.32063736e-01 2.78673971e-01 6.66620671e-01 1.53246396e-01]\n",
            " [9.97499537e-12 7.91508653e-13 9.17343509e-12 7.79448823e-12]\n",
            " [1.60769271e-13 1.06940562e-13 3.10308072e-15 1.37904380e-13]\n",
            " [1.10015850e-15 1.31215841e-15 1.20829545e-17 1.30194816e-15]\n",
            " [0.00000000e+00 0.00000000e+00 0.00000000e+00 0.00000000e+00]\n",
            " [8.36813691e-11 9.99270500e-10 1.27345167e-08 4.12391174e-07]\n",
            " [8.59387840e-07 1.54012451e-04 4.52166923e-05 4.01081005e-05]\n",
            " [1.70616746e-05 4.98208668e-03 3.00662059e-03 1.18821105e-02]\n",
            " [0.00000000e+00 0.00000000e+00 0.00000000e+00 0.00000000e+00]]\n"
          ]
        },
        {
          "output_type": "stream",
          "name": "stderr",
          "text": [
            "\n"
          ]
        }
      ]
    },
    {
      "cell_type": "code",
      "source": [
        "for episode in range(5):\n",
        "    state = env.reset()\n",
        "    step = 0\n",
        "    done = False\n",
        "    print(\"****************************************************\")\n",
        "    print(\"EPISODE \", episode)\n",
        "\n",
        "    for step in range(N_steps):\n",
        "        # Take the action (index) that have the maximum expected future reward given that state\n",
        "        action = np.argmax( Qtable[ state, :])\n",
        "        new_state, reward, done, info = env.step(action)\n",
        "\n",
        "        if done:\n",
        "            # Here, we decide to only print the last state (to see if our agent is on the goal or fall into an hole)\n",
        "            display_env( MAP, STATES, new_state )\n",
        "            \n",
        "            # We print the number of step it took.\n",
        "            print(\"Number of steps\", step)\n",
        "            break\n",
        "        state = new_state\n",
        "env.close()"
      ],
      "metadata": {
        "colab": {
          "base_uri": "https://localhost:8080/"
        },
        "id": "Ukw9W2OV50iv",
        "outputId": "990c0417-ab12-4dea-c077-12e2b23f6274"
      },
      "execution_count": 34,
      "outputs": [
        {
          "output_type": "stream",
          "name": "stdout",
          "text": [
            "****************************************************\n",
            "EPISODE  0\n",
            "SFFFFFFF\n",
            "FFFFFFFF\n",
            "FFFHFFFF\n",
            "FFFFFHFF\n",
            "FFF\u001b[2;31;43mH\u001b[0mFFFF\n",
            "FHHFFFHF\n",
            "FHFFHFHF\n",
            "FFFHFFFG\n",
            "\n",
            "Number of steps 18\n",
            "****************************************************\n",
            "EPISODE  1\n",
            "SFFFFFFF\n",
            "FFFFFFFF\n",
            "FFFHFFFF\n",
            "FFFFFH\u001b[2;31;43mF\u001b[0mF\n",
            "FFFHFFFF\n",
            "FHHFFFHF\n",
            "FHFFHFHF\n",
            "FFFHFFFG\n",
            "\n",
            "Number of steps 99\n",
            "****************************************************\n",
            "EPISODE  2\n",
            "SFFFFFFF\n",
            "FFFFFFFF\n",
            "FFFHFFFF\n",
            "FFFFFHFF\n",
            "FFFHFFFF\n",
            "FHHFFF\u001b[2;31;43mH\u001b[0mF\n",
            "FHFFHFHF\n",
            "FFFHFFFG\n",
            "\n",
            "Number of steps 26\n",
            "****************************************************\n",
            "EPISODE  3\n",
            "SFFFFFFF\n",
            "FFFFFFFF\n",
            "FFFHFFFF\n",
            "FFFFFHFF\n",
            "FFFHFFFF\n",
            "FHHFFF\u001b[2;31;43mH\u001b[0mF\n",
            "FHFFHFHF\n",
            "FFFHFFFG\n",
            "\n",
            "Number of steps 49\n",
            "****************************************************\n",
            "EPISODE  4\n",
            "SFFFFFFF\n",
            "FFFFFFFF\n",
            "FFFHFFFF\n",
            "FFFFFHFF\n",
            "FFFHFFFF\n",
            "FHHFFFHF\n",
            "FHFFHFHF\n",
            "FFFHFFF\u001b[2;31;43mG\u001b[0m\n",
            "\n",
            "Number of steps 85\n"
          ]
        }
      ]
    }
  ]
}